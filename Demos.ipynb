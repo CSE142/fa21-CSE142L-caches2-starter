{
 "cells": [
  {
   "cell_type": "code",
   "execution_count": null,
   "metadata": {
    "init_cell": true
   },
   "outputs": [],
   "source": [
    "%load_ext autoreload\n",
    "%autoreload 2\n",
    "from notebook import *\n",
    "# if get something about NUMEXPR_MAX_THREADS being set incorrectly, don't worry.  It's not a problem."
   ]
  },
  {
   "cell_type": "markdown",
   "metadata": {},
   "source": [
    "#KEY include Namebox.ipynb"
   ]
  },
  {
   "cell_type": "markdown",
   "metadata": {},
   "source": [
    "<div style=\" font-size: 300% !important;\n",
    "    margin-top: 1.5em;\n",
    "    margin-bottom: 1.5em;\n",
    "    font-weight: bold;\n",
    "    line-height: 1.0;\n",
    "    text-align:center;\">Lab 4: The Memory Hierarchy (Part II) -- Demos</div>\n"
   ]
  },
  {
   "cell_type": "markdown",
   "metadata": {
    "heading_collapsed": true
   },
   "source": [
    "# Temporal Locality"
   ]
  },
  {
   "cell_type": "markdown",
   "metadata": {
    "hidden": true
   },
   "source": [
    "* How much spatial locality is there in this code?\n",
    "* How much temporal locality is there? \n",
    "    * How big is the working set?\n",
    "    * How much reuse is there?"
   ]
  },
  {
   "cell_type": "code",
   "execution_count": null,
   "metadata": {
    "collapsed": true,
    "hidden": true
   },
   "outputs": [],
   "source": [
    "name=\"spatial1\"\n",
    "t = fiddle(f\"{name}.cpp\", function=\"stride\", name=name,  run=[\"moneta\"],opt=\"-O1\",\n",
    "code=r\"\"\"\n",
    "#include\"pin_tags.h\"\n",
    "#include\"CNN/tensor_t.hpp\"\n",
    "#include\"function_map.hpp\"\n",
    "#include<cstdint>\n",
    "\n",
    "extern \"C\"\n",
    "uint64_t* stride(uint64_t * data, uint64_t size, uint64_t arg1) {\n",
    "    tensor_t<uint32_t> t(1024, 1,1,1, (uint32_t *)data);\n",
    "    TAG_START(\"init\", t.data, &t.as_vector(t.element_count()), true);\n",
    "\n",
    "    for(uint i = 0; i < 1024; i++) {\n",
    "        for(uint x = 0; x < 1024; x++) {\n",
    "            t.get(x,0,0,0) = x;\n",
    "        }\n",
    "    }\n",
    "    \n",
    "    TAG_STOP(\"init\");\n",
    "    return data;\n",
    "}\n",
    "\n",
    "FUNCTION(one_array_1arg, stride);\n",
    "\"\"\")"
   ]
  },
  {
   "cell_type": "code",
   "execution_count": null,
   "metadata": {
    "hidden": true
   },
   "outputs": [],
   "source": [
    "show_trace(f\"./{name}_0\", show_tag=[\"init\"])"
   ]
  },
  {
   "cell_type": "markdown",
   "metadata": {
    "hidden": true
   },
   "source": [
    "* How much spatial locality is there in this code?\n",
    "* How much temporal locality is there? \n",
    "    * How big is the working set?\n",
    "    * How much reuse is there?"
   ]
  },
  {
   "cell_type": "code",
   "execution_count": null,
   "metadata": {
    "collapsed": true,
    "hidden": true
   },
   "outputs": [],
   "source": [
    "name=\"spatial2\"\n",
    "t = fiddle(f\"{name}.cpp\", function=\"stride\", name=name,  run=[\"moneta\"],opt=\"-O1\",\n",
    "code=r\"\"\"\n",
    "#include\"pin_tags.h\"\n",
    "#include\"CNN/tensor_t.hpp\"\n",
    "#include\"function_map.hpp\"\n",
    "#include<cstdint>\n",
    "\n",
    "extern \"C\"\n",
    "uint64_t* stride(uint64_t * data, uint64_t size, uint64_t arg1) {\n",
    "    tensor_t<uint32_t> t(1024, 1,1,1, (uint32_t *)data);\n",
    "    TAG_START(\"init\", t.data, &t.as_vector(t.element_count()), true);\n",
    "\n",
    "    for(uint x = 0; x < 1024; x++) {\n",
    "        t.get(x,0,0,0) = x;\n",
    "    }\n",
    "    \n",
    "    TAG_STOP(\"init\");\n",
    "    return data;\n",
    "}\n",
    "\n",
    "FUNCTION(one_array_1arg, stride);\n",
    "\"\"\")"
   ]
  },
  {
   "cell_type": "code",
   "execution_count": null,
   "metadata": {
    "hidden": true
   },
   "outputs": [],
   "source": [
    "show_trace(f\"./{name}_0\", show_tag=[\"init\"])"
   ]
  },
  {
   "cell_type": "markdown",
   "metadata": {
    "hidden": true
   },
   "source": [
    "* How much spatial locality is there in this code?\n",
    "* How much temporal locality is there? \n",
    "    * How big is the working set?\n",
    "    * How much reuse is there?"
   ]
  },
  {
   "cell_type": "code",
   "execution_count": null,
   "metadata": {
    "hidden": true
   },
   "outputs": [],
   "source": [
    "name=\"spatial3\"\n",
    "t = fiddle(f\"{name}.cpp\", function=\"stride\", name=name,  run=[\"moneta\"],opt=\"-O1\",\n",
    "code=r\"\"\"\n",
    "#include\"pin_tags.h\"\n",
    "#include\"CNN/tensor_t.hpp\"\n",
    "#include\"function_map.hpp\"\n",
    "#include<cstdint>\n",
    "\n",
    "extern \"C\"\n",
    "uint64_t* stride(uint64_t * data, uint64_t size, uint64_t arg1) {\n",
    "    tensor_t<uint32_t> t(1024, 1,1,1, (uint32_t *)data);\n",
    "    TAG_START(\"init\", t.data, &t.as_vector(t.element_count()), true);\n",
    "\n",
    "    for(uint x = 0; x < 1024; x+=8) {\n",
    "        t.get(x,0,0,0) = x;\n",
    "    }\n",
    "    \n",
    "    TAG_STOP(\"init\");\n",
    "    return data;\n",
    "}\n",
    "\n",
    "FUNCTION(one_array_1arg, stride);\n",
    "\"\"\")"
   ]
  },
  {
   "cell_type": "code",
   "execution_count": null,
   "metadata": {
    "hidden": true
   },
   "outputs": [],
   "source": [
    "show_trace(f\"./{name}_0\", show_tag=[\"init\"])"
   ]
  },
  {
   "cell_type": "markdown",
   "metadata": {
    "hidden": true
   },
   "source": [
    "* How much spatial locality is there in this code?\n",
    "* How much temporal locality is there? \n",
    "    * How big is the working set?\n",
    "    * How much reuse is there?"
   ]
  },
  {
   "cell_type": "markdown",
   "metadata": {},
   "source": [
    "# Miss Types, Locality, and the Data Structure Zoo"
   ]
  },
  {
   "cell_type": "markdown",
   "metadata": {},
   "source": [
    "## Set"
   ]
  },
  {
   "cell_type": "code",
   "execution_count": null,
   "metadata": {},
   "outputs": [],
   "source": [
    "name=\"spatial4\"\n",
    "t = fiddle(f\"{name}.cpp\", function=\"working\", analyze=False, run=[\"moneta\"], name=name,opt=\"-O1\",\n",
    "code=r\"\"\"\n",
    "#include\"pin_tags.h\"\n",
    "#include\"function_map.hpp\"\n",
    "#include\"archlab.hpp\"\n",
    "#include<set>\n",
    "#include<cstdint>\n",
    "\n",
    "extern \"C\"\n",
    "uint64_t* working(uint64_t * data, uint64_t size, uint64_t arg1) {\n",
    "    auto s = new std::set<uint64_t>();\n",
    "    uint64_t seed = 1;\n",
    "\n",
    "    TAG_START(\"build\", (void*)-1, 0, true);\n",
    "    for(uint x = 0; x < size; x++) {\n",
    "        auto t = fast_rand(&seed);\n",
    "        s->insert(t);\n",
    "        auto a = s->find(t);\n",
    "        TAG_GROW(\"build\",  &(*a), &(*a)+ 1);\n",
    "    }\n",
    "    TAG_STOP(\"build\");\n",
    "    \n",
    "    seed = 1;\n",
    "    \n",
    "    TAG_START(\"search\", (void*)-1, 0, true);\n",
    "    for(uint x = 0; x < size; x++) {\n",
    "        auto a = s->find(fast_rand(&seed));\n",
    "        TAG_GROW(\"search\", &(*a), &(*a)+ 1);\n",
    "    }\n",
    "    TAG_STOP(\"search\");\n",
    "\n",
    "    TAG_START_ALL(\"delete\", false);\n",
    "    delete s;\n",
    "    TAG_STOP(\"delete\");\n",
    "    return data;\n",
    "}\n",
    "\n",
    "FUNCTION(one_array_1arg, working);\n",
    "\"\"\",\n",
    "           cmdline=f\"--size {4* 1024}   --iters 1\")"
   ]
  },
  {
   "cell_type": "code",
   "execution_count": null,
   "metadata": {},
   "outputs": [],
   "source": [
    "show_trace(f\"./{name}_0.hdf5\", show_tag=['build','search'], layer_preset=[\"misses-compulsory-all\", \"misses-all\", \"hits-all\"])"
   ]
  },
  {
   "cell_type": "markdown",
   "metadata": {},
   "source": [
    "* How much spatial locality is there in this code?\n",
    "* How much temporal locality is there? \n",
    "    * How big is the working set?\n",
    "    * How much reuse is there?\n",
    "   "
   ]
  },
  {
   "cell_type": "markdown",
   "metadata": {},
   "source": [
    "## Unordered Set"
   ]
  },
  {
   "cell_type": "code",
   "execution_count": null,
   "metadata": {},
   "outputs": [],
   "source": [
    "name=\"spatial5\"\n",
    "t = fiddle(f\"{name}.cpp\", function=\"working\", analyze=False, run=[\"moneta\"], name=name,opt=\"-O1\",\n",
    "code=r\"\"\"\n",
    "#include\"pin_tags.h\"\n",
    "#include\"function_map.hpp\"\n",
    "#include\"archlab.hpp\"\n",
    "#include<unordered_set>\n",
    "#include<cstdint>\n",
    "\n",
    "extern \"C\"\n",
    "uint64_t* working(uint64_t * data, uint64_t size, uint64_t arg1) {\n",
    "    auto s = new std::unordered_set<uint64_t>();\n",
    "    uint64_t seed = 1;\n",
    "\n",
    "    TAG_START(\"build\", (void*)-1, 0, true);\n",
    "    for(uint x = 0; x < size; x++) {\n",
    "        auto t = fast_rand(&seed);\n",
    "        s->insert(t);\n",
    "        auto a = s->find(t);\n",
    "        TAG_GROW(\"build\",  &(*a), &(*a)+ 1);\n",
    "    }\n",
    "    TAG_STOP(\"build\");\n",
    "    \n",
    "    seed = 1;\n",
    "    \n",
    "    TAG_START(\"search\", (void*)-1, 0, true);\n",
    "    for(uint x = 0; x < size; x++) {\n",
    "        auto a = s->find(fast_rand(&seed));\n",
    "        TAG_GROW(\"search\", &(*a), &(*a)+ 1);\n",
    "    }\n",
    "    TAG_STOP(\"search\");\n",
    "\n",
    "    TAG_START_ALL(\"delete\", false);\n",
    "    delete s;\n",
    "    TAG_STOP(\"delete\");\n",
    "    return data;\n",
    "}\n",
    "\n",
    "FUNCTION(one_array_1arg, working);\n",
    "\"\"\",\n",
    "           cmdline=f\"--size {4* 1024}   --iters 1\")"
   ]
  },
  {
   "cell_type": "code",
   "execution_count": null,
   "metadata": {},
   "outputs": [],
   "source": [
    "show_trace(f\"./{name}_0.hdf5\", show_tag=['build','search'], layer_preset=[\"misses-compulsory-all\", \"misses-all\", \"hits-all\"])"
   ]
  },
  {
   "cell_type": "markdown",
   "metadata": {},
   "source": [
    "## List"
   ]
  },
  {
   "cell_type": "code",
   "execution_count": null,
   "metadata": {},
   "outputs": [],
   "source": [
    "name=\"spatial6\"\n",
    "t = fiddle(f\"{name}.cpp\", function=\"working\", analyze=False, run=[\"moneta\"], name=name,opt=\"-O1\",\n",
    "code=r\"\"\"\n",
    "#include\"pin_tags.h\"\n",
    "#include\"function_map.hpp\"\n",
    "#include\"archlab.hpp\"\n",
    "#include<list>\n",
    "#include<cstdint>\n",
    "\n",
    "extern \"C\"\n",
    "uint64_t* working(uint64_t * data, uint64_t size, uint64_t arg1) {\n",
    "    auto s = new std::list<uint64_t>();\n",
    "    uint64_t seed = 1;\n",
    "\n",
    "    TAG_START(\"build\", (void*)-1, 0, true);\n",
    "    for(uint x = 0; x < size; x++) {\n",
    "        s->push_back(fast_rand(&seed));\n",
    "        auto a = &s->back();\n",
    "        TAG_GROW(\"build\",  &(*a), &(*a)+ 1);\n",
    "    }\n",
    "        \n",
    "    uint64_t sum = 0;\n",
    "    std::cerr << s->size() << \"\\n\";\n",
    "    for(int i = 0; i < 10; i++){\n",
    "        for(auto &a: *s) sum += a;\n",
    "    }\n",
    "    TAG_STOP(\"build\");\n",
    "\n",
    "    TAG_START_ALL(\"delete\", false);\n",
    "    delete s;\n",
    "    TAG_STOP(\"delete\");\n",
    "    data[0] = sum;\n",
    "    return data;\n",
    "}\n",
    "\n",
    "FUNCTION(one_array_1arg, working);\n",
    "\"\"\",\n",
    "           cmdline=f\"--size {4* 1024}   --iters 1\")"
   ]
  },
  {
   "cell_type": "code",
   "execution_count": null,
   "metadata": {},
   "outputs": [],
   "source": [
    "show_trace(f\"./{name}_0.hdf5\", show_tag=['build'], layer_preset=[\"misses-compulsory-all\", \"misses-all\", \"hits-all\"])"
   ]
  },
  {
   "cell_type": "markdown",
   "metadata": {},
   "source": [
    "## Vector"
   ]
  },
  {
   "cell_type": "code",
   "execution_count": null,
   "metadata": {},
   "outputs": [],
   "source": [
    "name=\"spatial7\"\n",
    "t = fiddle(f\"{name}.cpp\", function=\"working\", analyze=False, run=[\"moneta\"], name=name,opt=\"-O1\",\n",
    "code=r\"\"\"\n",
    "#include\"pin_tags.h\"\n",
    "#include\"function_map.hpp\"\n",
    "#include\"archlab.hpp\"\n",
    "#include<vector>\n",
    "#include<cstdint>\n",
    "\n",
    "extern \"C\"\n",
    "uint64_t* working(uint64_t * data, uint64_t size, uint64_t arg1) {\n",
    "    auto s = new std::vector<uint64_t>();\n",
    "    uint64_t seed = 1;\n",
    "\n",
    "    TAG_START(\"build\", (void*)-1, 0, true);\n",
    "    for(uint x = 0; x < size; x++) {\n",
    "        s->push_back(fast_rand(&seed));\n",
    "        auto a = &s->back();\n",
    "        TAG_GROW(\"build\",  &(*a), &(*a)+ 1);\n",
    "    }\n",
    "        \n",
    "    uint64_t sum = 0;\n",
    "    std::cerr << s->size() << \"\\n\";\n",
    "    for(int i = 0; i < 10; i++){\n",
    "        for(auto &a: *s) sum += a;\n",
    "    }\n",
    "    TAG_STOP(\"build\");\n",
    "\n",
    "    TAG_START_ALL(\"delete\", false);\n",
    "    delete s;\n",
    "    TAG_STOP(\"delete\");\n",
    "    data[0] = sum;\n",
    "    return data;\n",
    "}\n",
    "\n",
    "FUNCTION(one_array_1arg, working);\n",
    "\"\"\",\n",
    "           cmdline=f\"--size {4* 1024}   --iters 1\")"
   ]
  },
  {
   "cell_type": "code",
   "execution_count": null,
   "metadata": {},
   "outputs": [],
   "source": [
    "show_trace(f\"./{name}_0.hdf5\", show_tag=['build'], layer_preset=[\"misses-compulsory-all\", \"misses-all\", \"hits-all\"])"
   ]
  },
  {
   "cell_type": "markdown",
   "metadata": {},
   "source": [
    "# Image Stabilization"
   ]
  },
  {
   "cell_type": "code",
   "execution_count": null,
   "metadata": {},
   "outputs": [],
   "source": []
  }
 ],
 "metadata": {
  "kernelspec": {
   "display_name": "Python 3",
   "language": "python",
   "name": "python3"
  },
  "language_info": {
   "codemirror_mode": {
    "name": "ipython",
    "version": 3
   },
   "file_extension": ".py",
   "mimetype": "text/x-python",
   "name": "python",
   "nbconvert_exporter": "python",
   "pygments_lexer": "ipython3",
   "version": "3.7.6"
  },
  "toc": {
   "base_numbering": 1,
   "nav_menu": {},
   "number_sections": true,
   "sideBar": true,
   "skip_h1_title": false,
   "title_cell": "Table of Contents",
   "title_sidebar": "Contents",
   "toc_cell": false,
   "toc_position": {},
   "toc_section_display": true,
   "toc_window_display": true
  }
 },
 "nbformat": 4,
 "nbformat_minor": 4
}
